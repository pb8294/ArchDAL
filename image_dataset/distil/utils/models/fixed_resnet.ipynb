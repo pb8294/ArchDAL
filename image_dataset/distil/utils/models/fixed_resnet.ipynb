{
 "cells": [
  {
   "cell_type": "code",
   "execution_count": null,
   "metadata": {},
   "outputs": [],
   "source": [
    "import numpy as np\n",
    "import matplotlib.pyplot as plt\n",
    "from distil.utils.models.resnet import ResCNN18"
   ]
  },
  {
   "cell_type": "code",
   "execution_count": null,
   "metadata": {},
   "outputs": [],
   "source": [
    "main_fixed_path = \"/home/pb8294/Documents/Projects/ALArch/results/baseline_nonal/rescnn18-CIFAR10-random-1000-n_aug/\"\n",
    "\n",
    "group_perf_dict = {}\n",
    "for i in range(1, 9):\n",
    "    individual_path = main_fixed_path + \"fixed_residual_groups_\" + str(i)\n",
    "    atf = np.load(individual_path + \"/train_acc.npy\")\n",
    "    avf = np.load(individual_path + \"/valid_acc.npy\")\n",
    "    asf = np.load(individual_path + \"/test_acc.npy\")\n",
    "    abvf = np.load(individual_path + \"/best_val_acc.npy\")\n",
    "    abtf = np.load(individual_path + \"/best_tst_acc.npy\")\n",
    "    print(\"Resnet with {} groups, Best valid_acc: {}, Best test_acc: {}\".format(i, abvf[-1], abtf[-1]))"
   ]
  }
 ],
 "metadata": {
  "language_info": {
   "name": "python"
  },
  "orig_nbformat": 4
 },
 "nbformat": 4,
 "nbformat_minor": 2
}
